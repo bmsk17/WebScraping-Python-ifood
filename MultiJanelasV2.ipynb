{
 "cells": [
  {
   "attachments": {},
   "cell_type": "markdown",
   "metadata": {},
   "source": [
    "BIBLIOTEACAS"
   ]
  },
  {
   "cell_type": "code",
   "execution_count": 1,
   "metadata": {},
   "outputs": [],
   "source": [
    "from selenium import webdriver\n",
    "from selenium.webdriver import Chrome, ChromeOptions\n",
    "from selenium.webdriver.chrome.service import Service\n",
    "from selenium.webdriver.common.by import By\n",
    "from selenium.webdriver.support.wait import WebDriverWait\n",
    "\n",
    "import pandas as pd\n",
    "\n",
    "import time\n",
    "\n",
    "import csv\n",
    "\n",
    "from reportlab.pdfgen import canvas\n",
    "from reportlab.lib.pagesizes import letter\n",
    "\n",
    "import tkinter as tk\n",
    "\n",
    "from pandasgui import show\n",
    "\n",
    "from datetime import date"
   ]
  },
  {
   "attachments": {},
   "cell_type": "markdown",
   "metadata": {},
   "source": [
    "FUNÇÃO PARA ROLAR A PAGINA ATÉ O FIM"
   ]
  },
  {
   "cell_type": "code",
   "execution_count": 2,
   "metadata": {},
   "outputs": [],
   "source": [
    "from selenium.webdriver.common.keys import Keys\n",
    "\n",
    "def scroll_to_bottom(driver):\n",
    "    # define o último tamanho da página como 0 para iniciar o loop\n",
    "    last_height = 0\n",
    "    # enquanto o tamanho da página mudar\n",
    "    while True:\n",
    "        # rola a página até o final\n",
    "        driver.execute_script(\"window.scrollTo(0, document.body.scrollHeight);\")\n",
    "        # espera um pouco para que a página carregue\n",
    "        time.sleep(2)\n",
    "        # obtém o novo tamanho da página\n",
    "        new_height = driver.execute_script(\"return document.body.scrollHeight\")\n",
    "        # se o novo tamanho da página for o mesmo que o último, a página não mudou, então saia do loop\n",
    "        if new_height == last_height:\n",
    "            break\n",
    "        # atualize o último tamanho da página\n",
    "        last_height = new_height\n",
    "    # role para o topo da página (opcional)\n",
    "    driver.execute_script(\"window.scrollTo(0, 0);\")"
   ]
  },
  {
   "attachments": {},
   "cell_type": "markdown",
   "metadata": {},
   "source": [
    "FUNÇÃO PARA PEGAR PRODUTOS DA PÁGINA"
   ]
  },
  {
   "cell_type": "code",
   "execution_count": 3,
   "metadata": {},
   "outputs": [],
   "source": [
    "def Coleta(driver):\n",
    "\n",
    "    driver.execute_script('window.scrollTo(0, document.body.scrollHeight);')\n",
    "    \n",
    "    time.sleep(1)\n",
    "\n",
    "    scroll_to_bottom(driver)\n",
    "    \n",
    "    descricao = driver.find_elements(By.CLASS_NAME, \"product-card__description\")\n",
    "    preco = driver.find_elements(By.CLASS_NAME, \"product-card__price\")\n",
    "\n",
    "    produtos = {}\n",
    "\n",
    "    for i in range(len(descricao)):\n",
    "        produtos[descricao[i].text] = preco[i].text\n",
    "    \n",
    "    #ImportaCSV(produtos)\n",
    "    '''\n",
    "    print(\"Produtos disponíveis:\")\n",
    "    for desc, preco in produtos.items():\n",
    "        if desc != \"\":\n",
    "            print(f\"{desc}: {preco}\")\n",
    "    '''\n",
    "    \n",
    "    return produtos"
   ]
  },
  {
   "attachments": {},
   "cell_type": "markdown",
   "metadata": {},
   "source": [
    "FUNÇÃO PARA IMPORTA DATAFRAME PARA UM ARQUIVO EM EXCEL"
   ]
  },
  {
   "cell_type": "code",
   "execution_count": 4,
   "metadata": {},
   "outputs": [],
   "source": [
    "def ImportaCSV(dados):\n",
    "\n",
    "    num_linhas = len(dados['nome'])\n",
    "    num_colunas = len(dados)\n",
    "\n",
    "    print(f'O dicionário tem {num_linhas} linhas e {num_colunas} colunas.')\n",
    "\n",
    "    # Converter o dicionário em um DataFrame\n",
    "    df = pd.DataFrame.from_dict(dados)\n",
    "\n",
    "    # Salvar o DataFrame em um arquivo do Excel\n",
    "    nome_arquivo = \"exemplo.xlsx\"\n",
    "    #df.to_excel(nome_arquivo, index=False)"
   ]
  },
  {
   "attachments": {},
   "cell_type": "markdown",
   "metadata": {},
   "source": [
    "FUNÇÃO PARA SALVAR EM UM DATAFRAME"
   ]
  },
  {
   "cell_type": "code",
   "execution_count": 5,
   "metadata": {},
   "outputs": [],
   "source": [
    "def salvarDataframe(meu_dicionario):\n",
    "\n",
    "    #Criando DataFrame\n",
    "    dataProdutos = pd.DataFrame(columns=['descrição', 'valor'])\n",
    "    i= 0\n",
    "    for chave, valor in meu_dicionario.items():\n",
    "        valorExtraido = valor.split('\\n')\n",
    "\n",
    "        #Adicionando no dataframe\n",
    "        dataProdutos = pd.concat([dataProdutos, pd.DataFrame({'descrição': [chave], 'valor': [valorExtraido[0]]})], ignore_index=True)\n",
    "    \n",
    "    return dataProdutos"
   ]
  },
  {
   "attachments": {},
   "cell_type": "markdown",
   "metadata": {},
   "source": [
    "FUNÇÃO: COLETAR TODOS OS PRODUTOS DO SITE"
   ]
  },
  {
   "cell_type": "code",
   "execution_count": 6,
   "metadata": {},
   "outputs": [],
   "source": [
    "def limpaGeral(url):\n",
    "    service = Service('ADD-YOUR-chromedriver.exe-PATH')\n",
    "    driver = webdriver.Chrome(service=service)\n",
    "\n",
    "    driver.get(url)\n",
    "\n",
    "    lista_de_links =[] \n",
    "\n",
    "    time.sleep(2)\n",
    "    nomeMercado  = driver.find_element(By.CLASS_NAME, \"market-header__title\").text\n",
    "    lista  = driver.find_elements(By.CLASS_NAME, \"aisle-menu__item__link\")\n",
    "\n",
    "    print(nomeMercado)\n",
    "\n",
    "    for indice, element in enumerate(lista):\n",
    "        if indice >= 3 : #and indice <4 :\n",
    "            print(f'{element.text} e seu link : \"{element.get_attribute(\"href\")}\" ')\n",
    "            lista_de_links.append(element.get_attribute(\"href\")) #adiciona links a lista\n",
    "            #linkAchado = element.get_attribute(\"href\")\n",
    "\n",
    "    dfFinal = pd.DataFrame(columns=[])\n",
    "\n",
    "    for link in lista_de_links:\n",
    "        driver.get(link)\n",
    "        lista_produtos = Coleta(driver)\n",
    "        dfProdutos = salvarDataframe(lista_produtos)\n",
    "        dfFinal = pd.concat([dfFinal, salvarDataframe(lista_produtos)]).reset_index(drop=True)\n",
    "        time.sleep(1)\n",
    "\n",
    "    return dfFinal,nomeMercado\n",
    "        \n",
    "    #show(dfFinal) #Mostrar dataframe extraido\n",
    "\n",
    "    #data_atual = date.today()\n",
    "    #data_formatada = data_atual.strftime(\"%d-%m-%Y\")\n",
    "\n",
    "    #dfFinal.to_excel(f'-{nomeMercado}_{data_formatada}.xlsx', index=False) #Convertendo excel"
   ]
  },
  {
   "attachments": {},
   "cell_type": "markdown",
   "metadata": {},
   "source": [
    "EXECUTÁVEL"
   ]
  },
  {
   "cell_type": "code",
   "execution_count": 7,
   "metadata": {},
   "outputs": [
    {
     "name": "stdout",
     "output_type": "stream",
     "text": [
      "Supermercado Veneza - Flores\n",
      "Bazar e Utilidades e seu link : \"https://www.ifood.com.br/delivery/manaus-am/supermercado-veneza---flores-flores/2da7761c-11c1-4fcf-bbc1-bd2c083f58ee?corredor=62869bed-b8a4-4116-8e5c-608534e36f94&originArea=aisleMenu\" \n",
      "Bebidas e seu link : \"https://www.ifood.com.br/delivery/manaus-am/supermercado-veneza---flores-flores/2da7761c-11c1-4fcf-bbc1-bd2c083f58ee?corredor=ef27c0d9-2d80-480d-97e4-95cef75400eb&originArea=aisleMenu\" \n",
      "Bebidas Alcoólicas e seu link : \"https://www.ifood.com.br/delivery/manaus-am/supermercado-veneza---flores-flores/2da7761c-11c1-4fcf-bbc1-bd2c083f58ee?corredor=c1fb8989-475c-464b-82b3-6988de63da4f&originArea=aisleMenu\" \n",
      "Biscoitos e Salgadinhos e seu link : \"https://www.ifood.com.br/delivery/manaus-am/supermercado-veneza---flores-flores/2da7761c-11c1-4fcf-bbc1-bd2c083f58ee?corredor=1b2e34ff-0d1c-49fb-9ee8-b2933ad95d9c&originArea=aisleMenu\" \n",
      "Carnes, Aves e Peixes e seu link : \"https://www.ifood.com.br/delivery/manaus-am/supermercado-veneza---flores-flores/2da7761c-11c1-4fcf-bbc1-bd2c083f58ee?corredor=ed12070f-c07e-4e23-86b3-90cc96fd1407&originArea=aisleMenu\" \n",
      "Congelados e Resfriados e seu link : \"https://www.ifood.com.br/delivery/manaus-am/supermercado-veneza---flores-flores/2da7761c-11c1-4fcf-bbc1-bd2c083f58ee?corredor=ada30f3d-71dd-4c9c-8b5f-ccf62444d3cd&originArea=aisleMenu\" \n",
      "Doces e Sobremesas e seu link : \"https://www.ifood.com.br/delivery/manaus-am/supermercado-veneza---flores-flores/2da7761c-11c1-4fcf-bbc1-bd2c083f58ee?corredor=68f7966f-9222-413d-8294-71e047968431&originArea=aisleMenu\" \n",
      "Étnicos e seu link : \"https://www.ifood.com.br/delivery/manaus-am/supermercado-veneza---flores-flores/2da7761c-11c1-4fcf-bbc1-bd2c083f58ee?corredor=46a3d749-58d1-4900-9555-7453ec2d9076&originArea=aisleMenu\" \n",
      "Feira e seu link : \"https://www.ifood.com.br/delivery/manaus-am/supermercado-veneza---flores-flores/2da7761c-11c1-4fcf-bbc1-bd2c083f58ee?corredor=2a545f6d-9d09-4d9e-ad02-d660b578395e&originArea=aisleMenu\" \n",
      "Frios e Laticínios e seu link : \"https://www.ifood.com.br/delivery/manaus-am/supermercado-veneza---flores-flores/2da7761c-11c1-4fcf-bbc1-bd2c083f58ee?corredor=17155238-d588-4d40-966c-e2882bb66ccf&originArea=aisleMenu\" \n",
      "Higiene e Cuidados Pessoais e seu link : \"https://www.ifood.com.br/delivery/manaus-am/supermercado-veneza---flores-flores/2da7761c-11c1-4fcf-bbc1-bd2c083f58ee?corredor=3c61ab5b-9d76-4e4d-b5f1-feaca8611bb8&originArea=aisleMenu\" \n",
      "Leites e Iogurtes e seu link : \"https://www.ifood.com.br/delivery/manaus-am/supermercado-veneza---flores-flores/2da7761c-11c1-4fcf-bbc1-bd2c083f58ee?corredor=3e1c7427-2a34-4fae-8a62-81f9fb0ab078&originArea=aisleMenu\" \n",
      "Limpeza e seu link : \"https://www.ifood.com.br/delivery/manaus-am/supermercado-veneza---flores-flores/2da7761c-11c1-4fcf-bbc1-bd2c083f58ee?corredor=287c7592-b88f-48ef-a699-a6accb6bd099&originArea=aisleMenu\" \n",
      "Matinais e seu link : \"https://www.ifood.com.br/delivery/manaus-am/supermercado-veneza---flores-flores/2da7761c-11c1-4fcf-bbc1-bd2c083f58ee?corredor=948ceb12-8e8c-4405-9501-64affb52a5bd&originArea=aisleMenu\" \n",
      "Molhos, Condimentos e Conservas e seu link : \"https://www.ifood.com.br/delivery/manaus-am/supermercado-veneza---flores-flores/2da7761c-11c1-4fcf-bbc1-bd2c083f58ee?corredor=c87228b3-067c-4896-ba73-b5bf54bb7f66&originArea=aisleMenu\" \n",
      "Padaria e seu link : \"https://www.ifood.com.br/delivery/manaus-am/supermercado-veneza---flores-flores/2da7761c-11c1-4fcf-bbc1-bd2c083f58ee?corredor=1cc3efa3-eba0-4345-9c4c-03ba5a08b072&originArea=aisleMenu\" \n",
      "Pet Shop e seu link : \"https://www.ifood.com.br/delivery/manaus-am/supermercado-veneza---flores-flores/2da7761c-11c1-4fcf-bbc1-bd2c083f58ee?corredor=cfe18de9-7b5d-4302-b27e-c3e35ec91f92&originArea=aisleMenu\" \n",
      "Suplementos e Vitaminas e seu link : \"https://www.ifood.com.br/delivery/manaus-am/supermercado-veneza---flores-flores/2da7761c-11c1-4fcf-bbc1-bd2c083f58ee?corredor=cad98145-8419-46dd-b5e0-820aa6a3d7a4&originArea=aisleMenu\" \n",
      "Utensílios para o Lar e seu link : \"https://www.ifood.com.br/delivery/manaus-am/supermercado-veneza---flores-flores/2da7761c-11c1-4fcf-bbc1-bd2c083f58ee?corredor=ac8e6102-139a-43b2-bb5c-33319b7db869&originArea=aisleMenu\" \n",
      "Grandes marcas com desconto e seu link : \"https://www.ifood.com.br/delivery/manaus-am/supermercado-veneza---flores-flores/2da7761c-11c1-4fcf-bbc1-bd2c083f58ee?corredor=d99da0d5-a726-467c-aa40-bfba91f17b93&originArea=aisleMenu\" \n",
      "Combos e seu link : \"https://www.ifood.com.br/delivery/manaus-am/supermercado-veneza---flores-flores/2da7761c-11c1-4fcf-bbc1-bd2c083f58ee?corredor=ec7243e8-cd93-424e-b0c9-2451e8fe4255&originArea=aisleMenu\" \n",
      "Mais Vendidos e seu link : \"https://www.ifood.com.br/delivery/manaus-am/supermercado-veneza---flores-flores/2da7761c-11c1-4fcf-bbc1-bd2c083f58ee?corredor=6f530f7b-369b-4ddd-88c2-d1c746bd268f&originArea=aisleMenu\" \n",
      "Papelaria e Livros e seu link : \"https://www.ifood.com.br/delivery/manaus-am/supermercado-veneza---flores-flores/2da7761c-11c1-4fcf-bbc1-bd2c083f58ee?corredor=0cadf5ed-e7c2-4530-9528-9d507b7e1301&originArea=aisleMenu\" \n",
      "Farmácia e seu link : \"https://www.ifood.com.br/delivery/manaus-am/supermercado-veneza---flores-flores/2da7761c-11c1-4fcf-bbc1-bd2c083f58ee?corredor=9c193748-42bd-49f3-b4b4-62a9008347a1&originArea=aisleMenu\" \n",
      "Acessórios para Festa e seu link : \"https://www.ifood.com.br/delivery/manaus-am/supermercado-veneza---flores-flores/2da7761c-11c1-4fcf-bbc1-bd2c083f58ee?corredor=e96234b0-5a1a-44a0-904b-1cc6e675a097&originArea=aisleMenu\" \n",
      "Bonecas e Bonecos e seu link : \"https://www.ifood.com.br/delivery/manaus-am/supermercado-veneza---flores-flores/2da7761c-11c1-4fcf-bbc1-bd2c083f58ee?corredor=a750fb1d-bfd9-4cc8-a15b-00fae6d3c6b8&originArea=aisleMenu\" \n"
     ]
    },
    {
     "ename": "",
     "evalue": "",
     "output_type": "error",
     "traceback": [
      "\u001b[1;31mCanceled future for execute_request message before replies were done"
     ]
    },
    {
     "ename": "",
     "evalue": "",
     "output_type": "error",
     "traceback": [
      "\u001b[1;31mO Kernel falhou ao executar o código na célula atual ou em uma célula anterior. Examine o código nas células para identificar uma possível causa da falha. Clique <a href=\"https://aka.ms/vscodeJupyterKernelCrash\">aqui</a> para obter mais informações. Consulte o <a href='command:jupyter.viewOutput'>log</a> do Jupyter para obter mais detalhes."
     ]
    }
   ],
   "source": [
    "\n",
    "links = ['https://www.ifood.com.br/delivery/manaus-am/supermercado-veneza---flores-flores/2da7761c-11c1-4fcf-bbc1-bd2c083f58ee',        \n",
    "         'https://www.ifood.com.br/delivery/manaus-am/patio-gourmet-adrianopolis-adrianopolis/d68fbb1e-7ab7-4808-b6f9-d8000a97117c', \n",
    "         'https://www.ifood.com.br/delivery/manaus-am/carrefour-hiper---manaus-flores-flores/5a3e1f8b-836c-4ae4-9d80-a9dd5faaf55d',\n",
    "         'https://www.ifood.com.br/delivery/manaus-am/super-nova-era---torres-novo-aleixo/f1e6a3fa-8088-423a-947d-665532bb3faa',\n",
    "         'https://www.ifood.com.br/delivery/manaus-am/supermercado-rodrigues---vieira-alves-nossa-senhora-das-gracas/912e9262-6b4c-492a-8e3f-f2a6b3f02e89',\n",
    "         'https://www.ifood.com.br/delivery/manaus-am/db-supermercados-adrianopolis-adrianopolis/ba274260-9144-4833-83b1-ec57643bd66d']\n",
    "\n",
    "\n",
    "data_atual = date.today()\n",
    "data_formatada = data_atual.strftime(\"%d-%m-%Y\")\n",
    "\n",
    "writer = pd.ExcelWriter(f'Coleta_{data_formatada}.xlsx', engine='openpyxl')\n",
    "\n",
    "for link in links:\n",
    "    df, nomeMercado = limpaGeral(link)\n",
    "    df.to_excel(writer, sheet_name=f'{nomeMercado[:31]}', index=False)\n",
    "\n",
    "writer.book.save(f'Coleta_{data_formatada}.xlsx')\n",
    "    "
   ]
  }
 ],
 "metadata": {
  "kernelspec": {
   "display_name": "Python 3",
   "language": "python",
   "name": "python3"
  },
  "language_info": {
   "codemirror_mode": {
    "name": "ipython",
    "version": 3
   },
   "file_extension": ".py",
   "mimetype": "text/x-python",
   "name": "python",
   "nbconvert_exporter": "python",
   "pygments_lexer": "ipython3",
   "version": "3.10.7"
  },
  "orig_nbformat": 4
 },
 "nbformat": 4,
 "nbformat_minor": 2
}
